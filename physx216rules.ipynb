{
 "cells": [
  {
   "cell_type": "code",
   "execution_count": 4,
   "id": "94fd95a0",
   "metadata": {},
   "outputs": [
    {
     "name": "stdout",
     "output_type": "stream",
     "text": [
      "da=2\n",
      "c=2\n",
      "4\n"
     ]
    }
   ],
   "source": [
    "def rule1(da,c):\n",
    "    dq = ( da * c )\n",
    "    return dq\n",
    "da = int(input(\"da=\"))\n",
    "c = int(input(\"c=\"))\n",
    "dq = rule1(da,c)\n",
    "print(dq)\n"
   ]
  },
  {
   "cell_type": "code",
   "execution_count": 6,
   "id": "ee7f2bd2",
   "metadata": {
    "scrolled": false
   },
   "outputs": [
    {
     "name": "stdout",
     "output_type": "stream",
     "text": [
      "c=1\n",
      "m=1\n",
      "a=1\n",
      "da=1\n",
      "1\n"
     ]
    }
   ],
   "source": [
    "def rule2(c,da,m,a):\n",
    "    dq = c * m * a ** (m - 1) * da\n",
    "    return dq\n",
    "c = int(input(\"c=\"))\n",
    "m = int(input(\"m=\"))\n",
    "a = int(input(\"a=\"))\n",
    "da = int(input(\"da=\"))\n",
    "dq = rule2(c,da,m,a)\n",
    "print (dq)"
   ]
  },
  {
   "cell_type": "markdown",
   "id": "0b226f9a",
   "metadata": {},
   "source": [
    " def rule3(da,db):\n",
    "    dq=np.sqrt(da ** 2 + db ** 2)\n",
    "    return dq \n",
    "da = int(input(\"da=\"))\n",
    "db = int(input(\"db=\"))\n",
    "dq = rule3(da,db)\n",
    "print(dq)\n"
   ]
  },
  {
   "cell_type": "code",
   "execution_count": null,
   "id": "cfe45f15",
   "metadata": {
    "scrolled": true
   },
   "outputs": [],
   "source": [
    "def rule4(da,db,a,b,m,n):\n",
    "    dq = np.sqrt(m * da / a + n * db / b)\n",
    "    return dq \n",
    "da = int(input(\"da=\"))\n",
    "db = int(input(\"db=\"))\n",
    "a = int(input(\"a=\"))\n",
    "b = int(input(\"b=\"))\n",
    "m = int(input(\"m=\"))\n",
    "n = int(input(\"n=\"))\n",
    "dq = rule4(da,db,a,b,m,n)\n",
    "print (dq)\n"
   ]
  },
  {
   "cell_type": "code",
   "execution_count": 10,
   "id": "85eed1f8",
   "metadata": {},
   "outputs": [
    {
     "name": "stdout",
     "output_type": "stream",
     "text": [
      "The average is 1.1166666666666667,and the standard deviation is 0.17950549357115014.\n"
     ]
    }
   ],
   "source": [
    "import numpy as np\n",
    "x = [1.1, 1.3, 1.4, 0.9, 0.95, 1.05]\n",
    "xavg =np.average(x)\n",
    "xstd = np.std(x)\n",
    "print(\"The average is {},and the standard deviation is {}.\".format(xavg,xstd))"
   ]
  },
  {
   "cell_type": "markdown",
   "id": "7a94fb2c",
   "metadata": {},
   "source": [
    "$\\delta Q=\\sqrt{(\\delta A)^2+(\\delta B)^2}$"
   ]
  },
  {
   "cell_type": "markdown",
   "id": "fe0dd2a3",
   "metadata": {},
   "source": [
    "$\\delta v_i=\\sqrt{(\\delta x/x)^2+( \\delta y/2y)^2 }$"
   ]
  },
  {
   "cell_type": "code",
   "execution_count": null,
   "id": "d5cf118c",
   "metadata": {},
   "outputs": [],
   "source": []
  }
 ],
 "metadata": {
  "kernelspec": {
   "display_name": "Python 3 (ipykernel)",
   "language": "python",
   "name": "python3"
  },
  "language_info": {
   "codemirror_mode": {
    "name": "ipython",
    "version": 3
   },
   "file_extension": ".py",
   "mimetype": "text/x-python",
   "name": "python",
   "nbconvert_exporter": "python",
   "pygments_lexer": "ipython3",
   "version": "3.9.12"
  }
 },
 "nbformat": 4,
 "nbformat_minor": 5
}
